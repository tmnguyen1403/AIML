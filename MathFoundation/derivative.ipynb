{
 "cells": [
  {
   "attachments": {},
   "cell_type": "markdown",
   "metadata": {},
   "source": [
    "## Derivative concepts\n",
    "\n",
    "### Geometric\n",
    "_ The derivative is the slope of a curve\n",
    "\n",
    "### Physical\n",
    "_ The derivative is the rate of change\n",
    "\n",
    "### Derivative operator\n",
    "d/dx\n",
    "\n",
    "### The chain rule\n",
    "\n",
    "(f(g(x)))' = g'(x)*f'(g(x))\n"
   ]
  },
  {
   "attachments": {},
   "cell_type": "markdown",
   "metadata": {},
   "source": [
    "## Gradient vectors\n",
    " = [d/dx, d/dy]"
   ]
  },
  {
   "cell_type": "markdown",
   "metadata": {},
   "source": []
  }
 ],
 "metadata": {
  "language_info": {
   "name": "python"
  },
  "orig_nbformat": 4
 },
 "nbformat": 4,
 "nbformat_minor": 2
}
